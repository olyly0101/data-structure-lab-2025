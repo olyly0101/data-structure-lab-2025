{
  "nbformat": 4,
  "nbformat_minor": 0,
  "metadata": {
    "colab": {
      "provenance": []
    },
    "kernelspec": {
      "name": "python3",
      "display_name": "Python 3"
    },
    "language_info": {
      "name": "python"
    }
  },
  "cells": [
    {
      "cell_type": "markdown",
      "source": [],
      "metadata": {
        "id": "KIFVSBqIEcFp"
      }
    },
    {
      "cell_type": "code",
      "execution_count": null,
      "metadata": {
        "colab": {
          "base_uri": "https://localhost:8080/"
        },
        "id": "SOHyA1tOESnE",
        "outputId": "f56c5ebd-89af-4ea2-b4ee-e10e2f962c67"
      },
      "outputs": [
        {
          "output_type": "stream",
          "name": "stdout",
          "text": [
            "is abbabba Palindrome?  True\n",
            "is abbabt Palindrome?  False\n"
          ]
        }
      ],
      "source": [
        "class Queue:\n",
        "  def __init__(self):\n",
        "    self.itmes = []\n",
        "\n",
        "  def is_empty(self):\n",
        "    return self.itmes == []\n",
        "\n",
        "  def enqueue(self, item):\n",
        "    self.itmes.insert(0, item)\n",
        "\n",
        "  def dequeue(self):\n",
        "    return self.itmes.pop()\n",
        "\n",
        "  def size(self):\n",
        "    return len(self.itmes)\n",
        "\n",
        "class Stack:\n",
        "  def __init__(self):\n",
        "    self.items = []\n",
        "\n",
        "  def is_empty(self):\n",
        "    return self.items == []\n",
        "\n",
        "  def push(self, item):\n",
        "    self.items.append(item)\n",
        "\n",
        "  def pop(self):\n",
        "    return self.items.pop()\n",
        "\n",
        "  def peek(self):\n",
        "    return self.items[len(self.items)-1]\n",
        "\n",
        "  def size(self):\n",
        "    return len(self.items)\n",
        "\n",
        "  def pop_all(self):\n",
        "    self.items.clear()\n",
        "\n",
        "def is_palindrome(word):\n",
        "  q = Queue()\n",
        "  s = Stack()\n",
        "  for i in range(len(word)):\n",
        "    s.push(word[i])\n",
        "    q.enqueue(word[i])\n",
        "\n",
        "\n",
        "  while (not q.is_empty()) and s.pop() == q.dequeue():\n",
        "    pass\n",
        "\n",
        "  if q.is_empty():\n",
        "    return True\n",
        "  else:\n",
        "    return False\n",
        "\n",
        "str1 = 'abbabba'\n",
        "str2 = 'abbabt'\n",
        "t1 = is_palindrome(str1)\n",
        "t2 = is_palindrome(str2)\n",
        "print(\"is\", str1, \"Palindrome? \", t1)\n",
        "print(\"is\", str2, \"Palindrome? \", t2)"
      ]
    }
  ]
}
