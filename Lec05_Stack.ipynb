{
  "cells": [
    {
      "cell_type": "markdown",
      "metadata": {
        "id": "MFMtsCwX3Wt5"
      },
      "source": [
        "Lec05: Basic Data Structure Stacks"
      ]
    },
    {
      "cell_type": "code",
      "execution_count": 10,
      "metadata": {
        "colab": {
          "base_uri": "https://localhost:8080/"
        },
        "id": "cc8rGzVb23by",
        "outputId": "568b0438-3b4d-436e-f852-77eb286a1c47"
      },
      "outputs": [
        {
          "name": "stdout",
          "output_type": "stream",
          "text": [
            "True\n"
          ]
        }
      ],
      "source": [
        "class Stack:\n",
        "  def __init__(self):\n",
        "    self.items = []\n",
        "\n",
        "  def is_empty(self):\n",
        "    return self.items == []\n",
        "\n",
        "  def push(self, item):\n",
        "    self.items.append(item)\n",
        "\n",
        "  def pop(self):\n",
        "    return self.items.pop()\n",
        "\n",
        "  def peek(self):\n",
        "    return self.items[len(self.items)-1]\n",
        "\n",
        "  def size(self):\n",
        "    return len(self.items)\n",
        "\n",
        "  def pop_all(self):\n",
        "    self.items.clear()\n",
        "\n",
        "s = Stack()\n",
        "print(s.is_empty())\n",
        "s.push(4)\n",
        "s.push(\"Cat\")"
      ]
    },
    {
      "cell_type": "markdown",
      "metadata": {
        "id": "OU94zOvP5t0X"
      },
      "source": [
        "Example1 - reverse input"
      ]
    },
    {
      "cell_type": "code",
      "execution_count": 11,
      "metadata": {
        "id": "tv6dnpJV5zcI"
      },
      "outputs": [
        {
          "name": "stdout",
          "output_type": "stream",
          "text": [
            "Input String:  Test Seq 12345\n",
            "Reversed String:  54321 qeS tseT\n"
          ]
        }
      ],
      "source": [
        "# Ensure the Stack class is defined by running the cell where it is implemented (CELL INDEX: 1)\n",
        "class Stack:\n",
        "  def __init__(self):\n",
        "    self.items = []\n",
        "\n",
        "  def is_empty(self):\n",
        "    return self.items == []\n",
        "\n",
        "  def push(self, item):\n",
        "    self.items.append(item)\n",
        "\n",
        "  def pop(self):\n",
        "    return self.items.pop()\n",
        "\n",
        "  def peek(self):\n",
        "    return self.items[len(self.items)-1]\n",
        "\n",
        "  def size(self):\n",
        "    return len(self.items)\n",
        "\n",
        "  def pop_all(self):\n",
        "    self.items.clear()\n",
        "\n",
        "\n",
        "def reverse(str):\n",
        "    st = Stack()\n",
        "    for i in range(len(str)):\n",
        "        st.push(str[i])\n",
        "\n",
        "    out = \"\"\n",
        "    while not st.is_empty():\n",
        "        out += st.pop()\n",
        "\n",
        "    return out\n",
        "\n",
        "answer = reverse(input)\n",
        "\n",
        "print(\"Input String: \", input)\n",
        "print(\"Reversed String: \", answer)"
      ]
    },
    {
      "cell_type": "markdown",
      "metadata": {
        "id": "JJd7t57u5fzQ"
      },
      "source": [
        "Example2 - Simple Balance parentheses"
      ]
    },
    {
      "cell_type": "code",
      "execution_count": 12,
      "metadata": {
        "colab": {
          "base_uri": "https://localhost:8080/"
        },
        "id": "ygsOcZQS5BHZ",
        "outputId": "13781b4b-ab9e-49d1-f725-d5f131962c90"
      },
      "outputs": [
        {
          "name": "stdout",
          "output_type": "stream",
          "text": [
            "True\n",
            "False\n"
          ]
        }
      ],
      "source": [
        "class Stack:\n",
        "  def __init__(self):\n",
        "    self.items = []\n",
        "\n",
        "  def is_empty(self):\n",
        "    return self.items == []\n",
        "\n",
        "  def push(self, item):\n",
        "    self.items.append(item)\n",
        "\n",
        "  def pop(self):\n",
        "    return self.items.pop()\n",
        "\n",
        "  def peek(self):\n",
        "    return self.items[len(self.items)-1]\n",
        "\n",
        "  def size(self):\n",
        "    return len(self.items)\n",
        "\n",
        "  def pop_all(self):\n",
        "    self.items.clear()\n",
        "\n",
        "def par_checker(symbol_string):\n",
        "  s = Stack()\n",
        "  balanced = True\n",
        "  index = 0\n",
        "\n",
        "  while index < len(symbol_string) and balanced:\n",
        "    symbol = symbol_string[index]\n",
        "    if symbol == \"(\":\n",
        "      s.push(symbol)\n",
        "    else:\n",
        "      if s.is_empty():\n",
        "        balanced = False\n",
        "      else:\n",
        "        s.pop()\n",
        "\n",
        "    index = index + 1\n",
        "\n",
        "  if balanced and s.is_empty():\n",
        "    return True\n",
        "  else:\n",
        "    return False\n",
        "\n",
        "print(par_checker('((()))'))\n",
        "print(par_checker('(()'))"
      ]
    },
    {
      "cell_type": "markdown",
      "metadata": {
        "id": "liqd9i0R53kI"
      },
      "source": [
        "Example3 -  Divide by 2 Algorithm"
      ]
    },
    {
      "cell_type": "code",
      "execution_count": 13,
      "metadata": {
        "id": "oI2nJvZJ59_v"
      },
      "outputs": [
        {
          "name": "stdout",
          "output_type": "stream",
          "text": [
            "101010\n"
          ]
        }
      ],
      "source": [
        "class Stack:\n",
        "  def __init__(self):\n",
        "    self.items = []\n",
        "\n",
        "  def is_empty(self):\n",
        "    return self.items == []\n",
        "\n",
        "  def push(self, item):\n",
        "    self.items.append(item)\n",
        "\n",
        "  def pop(self):\n",
        "    return self.items.pop()\n",
        "\n",
        "  def peek(self):\n",
        "    return self.items[len(self.items)-1]\n",
        "\n",
        "  def size(self):\n",
        "    return len(self.items)\n",
        "\n",
        "  def pop_all(self):\n",
        "    self.items.clear()\n",
        "\n",
        "def devide_by_2(dec_number):\n",
        "  rem_stack = Stack()\n",
        "  while dec_number > 0:\n",
        "    rem = dec_number % 2\n",
        "    rem_stack.push(rem)\n",
        "    dec_number = dec_number // 2\n",
        "\n",
        "  bin_string = \"\"\n",
        "  while not rem_stack.is_empty():\n",
        "    bin_string = bin_string + str(rem_stack.pop())\n",
        "\n",
        "  return bin_string\n",
        "\n",
        "print(devide_by_2(42))"
      ]
    }
  ],
  "metadata": {
    "colab": {
      "provenance": []
    },
    "kernelspec": {
      "display_name": "Python 3",
      "name": "python3"
    },
    "language_info": {
      "codemirror_mode": {
        "name": "ipython",
        "version": 3
      },
      "file_extension": ".py",
      "mimetype": "text/x-python",
      "name": "python",
      "nbconvert_exporter": "python",
      "pygments_lexer": "ipython3",
      "version": "3.11.9"
    }
  },
  "nbformat": 4,
  "nbformat_minor": 0
}
