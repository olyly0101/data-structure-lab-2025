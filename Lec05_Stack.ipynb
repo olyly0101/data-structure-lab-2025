{
  "nbformat": 4,
  "nbformat_minor": 0,
  "metadata": {
    "colab": {
      "provenance": []
    },
    "kernelspec": {
      "name": "python3",
      "display_name": "Python 3"
    },
    "language_info": {
      "name": "python"
    }
  },
  "cells": [
    {
      "cell_type": "markdown",
      "source": [
        "Lec05: Basic Data Structure Stacks"
      ],
      "metadata": {
        "id": "MFMtsCwX3Wt5"
      }
    },
    {
      "cell_type": "code",
      "source": [
        "class Stack:\n",
        "  def __init__(self):\n",
        "    self.items = []\n",
        "\n",
        "  def is_empty(self):\n",
        "    return self.items == []\n",
        "\n",
        "  def push(self, item):\n",
        "    self.items.append(item)\n",
        "\n",
        "  def pop(self):\n",
        "    return self.items.pop()\n",
        "\n",
        "  def peek(self):\n",
        "    return self.items[len(self.items)-1]\n",
        "\n",
        "  def size(self):\n",
        "    return len(self.items)\n",
        "\n",
        "  def pop_all(self):\n",
        "    self.items.clear()\n",
        "\n",
        "s = Stack()\n",
        "print(s.is_empty())\n",
        "s.push(4)\n",
        "s.push(\"Cat\")"
      ],
      "metadata": {
        "colab": {
          "base_uri": "https://localhost:8080/"
        },
        "id": "cc8rGzVb23by",
        "outputId": "568b0438-3b4d-436e-f852-77eb286a1c47"
      },
      "execution_count": 8,
      "outputs": [
        {
          "output_type": "stream",
          "name": "stdout",
          "text": [
            "True\n"
          ]
        }
      ]
    },
    {
      "cell_type": "markdown",
      "source": [
        "Example1 - reverse input"
      ],
      "metadata": {
        "id": "OU94zOvP5t0X"
      }
    },
    {
      "cell_type": "code",
      "source": [],
      "metadata": {
        "id": "tv6dnpJV5zcI"
      },
      "execution_count": null,
      "outputs": []
    },
    {
      "cell_type": "markdown",
      "source": [
        "Example2 - Simple Balance parentheses"
      ],
      "metadata": {
        "id": "JJd7t57u5fzQ"
      }
    },
    {
      "cell_type": "code",
      "source": [
        "def par_checker(symbol_string):\n",
        "  s = Stack()\n",
        "  balanced = True\n",
        "  index = 0\n",
        "\n",
        "  while index < len(symbol_string) and balanced:\n",
        "    symbol = symbol_string[index]\n",
        "    if symbol == \"(\":\n",
        "      s.push(symbol)\n",
        "    else:\n",
        "      if s.is_empty():\n",
        "        balanced = False\n",
        "      else:\n",
        "        s.pop()\n",
        "\n",
        "    index = index + 1\n",
        "\n",
        "  if balanced and s.is_empty():\n",
        "    return True\n",
        "  else:\n",
        "    return False\n",
        "\n",
        "print(par_checker('((()))'))\n",
        "print(par_checker('(()'))"
      ],
      "metadata": {
        "colab": {
          "base_uri": "https://localhost:8080/"
        },
        "id": "ygsOcZQS5BHZ",
        "outputId": "13781b4b-ab9e-49d1-f725-d5f131962c90"
      },
      "execution_count": 12,
      "outputs": [
        {
          "output_type": "stream",
          "name": "stdout",
          "text": [
            "True\n",
            "False\n"
          ]
        }
      ]
    },
    {
      "cell_type": "markdown",
      "source": [
        "Example3 -  Divide by 2 Algorithm"
      ],
      "metadata": {
        "id": "liqd9i0R53kI"
      }
    },
    {
      "cell_type": "code",
      "source": [],
      "metadata": {
        "id": "oI2nJvZJ59_v"
      },
      "execution_count": null,
      "outputs": []
    }
  ]
}